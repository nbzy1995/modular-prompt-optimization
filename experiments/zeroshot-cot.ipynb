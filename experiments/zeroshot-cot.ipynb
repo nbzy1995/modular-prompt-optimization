{
 "cells": [
  {
   "cell_type": "markdown",
   "id": "60c121ab",
   "metadata": {},
   "source": [
    "# Reproducing Zero-shot CoT on MultiArith & CommonsenseQA\n",
    "\n",
    "We replicate Zero-Shot and Zero-Shot-CoT prompting using Gemini. See relevant clauses and triggers:\n",
    "- MultiArith answer trigger: **Therefore, the answer (arabic numerals) is**\n",
    "- CommonsenseQA answer trigger: **Therefore, among A through E, the answer is**\n",
    "- Temperature: **0.0**, greedy decoding\n",
    "- Two-stage reasoning: rationale → answer extraction\n"
   ]
  },
  {
   "cell_type": "code",
   "execution_count": 1,
   "id": "66173544",
   "metadata": {},
   "outputs": [],
   "source": [
    "import sys, os\n",
    "sys.path.append(os.path.abspath(\"..\"))\n"
   ]
  },
  {
   "cell_type": "code",
   "execution_count": 2,
   "id": "82bd57bb",
   "metadata": {},
   "outputs": [],
   "source": [
    "import os\n",
    "import json\n",
    "import csv\n",
    "from src.dataset_loader import load_multiarith, load_commonsense\n",
    "from src.pipeline import ZeroShotCOTPipeline, DirectAnswerPipeline\n",
    "from src.gemini_client import GeminiClient\n",
    "\n",
    "from src.dataset_loader import load_multiarith, load_commonsense\n",
    "API_KEY = os.getenv(\"GEMINI_API_KEY\")\n",
    "client = GeminiClient(api_key=API_KEY)\n"
   ]
  },
  {
   "cell_type": "markdown",
   "id": "f0cc93f6",
   "metadata": {},
   "source": []
  },
  {
   "cell_type": "code",
   "execution_count": 3,
   "id": "082dd60c",
   "metadata": {},
   "outputs": [],
   "source": [
    "def save_results(results, out_dir=\"./results\", filename=\"results\"):\n",
    "    os.makedirs(out_dir, exist_ok=True)\n",
    "\n",
    "    # Save JSON\n",
    "    json_file = os.path.join(out_dir, f\"{filename}.json\")\n",
    "    with open(json_file, \"w\", encoding=\"utf-8\") as f:\n",
    "        json.dump(results, f, indent=2, ensure_ascii=False)\n"
   ]
  },
  {
   "cell_type": "markdown",
   "id": "e66d68f9",
   "metadata": {},
   "source": [
    "## CommonSenseQA"
   ]
  },
  {
   "cell_type": "code",
   "execution_count": 4,
   "id": "f388307c",
   "metadata": {},
   "outputs": [],
   "source": [
    "\n",
    "csqa_direct = load_commonsense(r\"../dataset/CommonsenseQA/dev_rand_split.jsonl\")\n",
    "csqa_cot    = load_commonsense(r\"../dataset/CommonsenseQA/dev_rand_split.jsonl\")\n",
    "\n",
    "pipeline_direct = DirectAnswerPipeline(client, task=\"commonsenseqa\")\n",
    "pipeline_cot = ZeroShotCOTPipeline(client, task=\"commonsenseqa\")\n",
    "\n",
    "results_direct = [pipeline_direct.run_sample(sample) for sample in csqa_direct]\n",
    "results_cot = [pipeline_cot.run_sample(sample) for sample in csqa_cot]\n",
    "\n",
    "# Save results\n",
    "save_results(results_direct, filename=\"csqa_zeroshot\")\n",
    "save_results(results_cot,  filename=\"csqa_zeroshot_cot\")\n"
   ]
  },
  {
   "cell_type": "markdown",
   "id": "44044e53",
   "metadata": {},
   "source": [
    "### MultiArith"
   ]
  },
  {
   "cell_type": "code",
   "execution_count": null,
   "id": "6bfd3ba3",
   "metadata": {},
   "outputs": [],
   "source": [
    "multiarith_direct = load_multiarith(r\"../dataset/MultiArith/MultiArith.json\")\n",
    "multiarith_cot = load_multiarith(r\"../dataset/MultiArith/MultiArith.json\")\n",
    "\n",
    "pipeline_direct = DirectAnswerPipeline(client, task=\"multi_arith\")\n",
    "pipeline_cot = ZeroShotCOTPipeline(client, task=\"multi_arith\")\n",
    "\n",
    "results_direct = [pipeline_direct.run_sample(sample) for sample in multiarith_direct]\n",
    "\n",
    "# Run CoT\n",
    "results_cot = [pipeline_cot.run_sample(sample) for sample in multiarith_cot]\n",
    "\n",
    "# Save results\n",
    "save_results(results_direct, filename=\"multiarith_zeroshot\")\n",
    "save_results(results_cot,  filename=\"multiarith_zeroshot_cot\")\n"
   ]
  },
  {
   "cell_type": "markdown",
   "id": "fe8d39d1",
   "metadata": {},
   "source": [
    "## Evaluation"
   ]
  },
  {
   "cell_type": "code",
   "execution_count": 8,
   "id": "554f48bc",
   "metadata": {},
   "outputs": [
    {
     "name": "stdout",
     "output_type": "stream",
     "text": [
      "Evaluation Table:\n"
     ]
    },
    {
     "data": {
      "text/plain": [
       "{}"
      ]
     },
     "execution_count": 8,
     "metadata": {},
     "output_type": "execute_result"
    }
   ],
   "source": [
    "from src.evaluate import evaluate_experiment\n",
    "\n",
    "df = evaluate_experiment(\"./results\")\n",
    "\n",
    "print(\"Evaluation Table:\")\n",
    "df"
   ]
  },
  {
   "cell_type": "code",
   "execution_count": null,
   "id": "b9715306",
   "metadata": {},
   "outputs": [],
   "source": []
  },
  {
   "cell_type": "code",
   "execution_count": null,
   "metadata": {},
   "outputs": [],
   "source": []
  }
 ],
 "metadata": {
  "kernelspec": {
   "display_name": "venv",
   "language": "python",
   "name": "python3"
  },
  "language_info": {
   "codemirror_mode": {
    "name": "ipython",
    "version": 3
   },
   "file_extension": ".py",
   "mimetype": "text/x-python",
   "name": "python",
   "nbconvert_exporter": "python",
   "pygments_lexer": "ipython3",
   "version": "3.12.4"
  }
 },
 "nbformat": 4,
 "nbformat_minor": 5
}
